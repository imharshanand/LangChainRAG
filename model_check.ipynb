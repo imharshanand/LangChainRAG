{
 "cells": [
  {
   "cell_type": "code",
   "execution_count": 1,
   "id": "2b48db23-9397-44e8-8cb0-26077f72999d",
   "metadata": {},
   "outputs": [
    {
     "name": "stderr",
     "output_type": "stream",
     "text": [
      "/home/harsh/anaconda3/envs/rag/lib/python3.9/site-packages/transformers/tokenization_utils_base.py:1601: FutureWarning: `clean_up_tokenization_spaces` was not set. It will be set to `True` by default. This behavior will be depracted in transformers v4.45, and will be then set to `False` by default. For more details check this issue: https://github.com/huggingface/transformers/issues/31884\n",
      "  warnings.warn(\n",
      "The attention mask is not set and cannot be inferred from input because pad token is same as eos token. As a consequence, you may observe unexpected behavior. Please pass your input's `attention_mask` to obtain reliable results.\n"
     ]
    },
    {
     "name": "stdout",
     "output_type": "stream",
     "text": [
      "Generated Text:\n",
      " Once upon a time in a faraway land, a man named James was a well-known and respected member of society. He was well off and well known for his skill with the sword. One day, he was approached by a group of mysterious\n"
     ]
    }
   ],
   "source": [
    "from transformers import AutoModelForCausalLM, AutoTokenizer\n",
    "\n",
    "# Path to the directory where the model is stored locally\n",
    "model_name = \"./gpt2-large\"\n",
    "\n",
    "# Load the tokenizer and model from the local directory\n",
    "tokenizer = AutoTokenizer.from_pretrained(model_name)\n",
    "model = AutoModelForCausalLM.from_pretrained(model_name)\n",
    "\n",
    "# Example: Text Generation\n",
    "input_text = \"Once upon a time in a faraway land,\"\n",
    "inputs = tokenizer(input_text, return_tensors=\"pt\")\n",
    "\n",
    "# Generate text\n",
    "outputs = model.generate(\n",
    "    inputs.input_ids,\n",
    "    max_length=50,          # Maximum length of the generated text\n",
    "    num_return_sequences=1, # Number of sequences to generate\n",
    "    no_repeat_ngram_size=2, # Avoid repeating the same n-grams\n",
    "    top_k=50,               # Limit the number of next words to consider\n",
    "    top_p=0.95,             # Use nucleus sampling\n",
    "    temperature=0.7,        # Control the randomness of predictions\n",
    "    do_sample=True,         # Enable sampling to use top_p and temperature\n",
    "    pad_token_id=tokenizer.eos_token_id,  # Set pad token to eos token\n",
    ")\n",
    "\n",
    "# Decode the generated text\n",
    "generated_text = tokenizer.decode(outputs[0], skip_special_tokens=True)\n",
    "\n",
    "# Print the generated text\n",
    "print(\"Generated Text:\\n\", generated_text)\n"
   ]
  },
  {
   "cell_type": "code",
   "execution_count": null,
   "id": "76877ca3-c200-4ce6-ba71-fa5ed9485f97",
   "metadata": {},
   "outputs": [],
   "source": []
  }
 ],
 "metadata": {
  "kernelspec": {
   "display_name": "Python 3 (ipykernel)",
   "language": "python",
   "name": "python3"
  },
  "language_info": {
   "codemirror_mode": {
    "name": "ipython",
    "version": 3
   },
   "file_extension": ".py",
   "mimetype": "text/x-python",
   "name": "python",
   "nbconvert_exporter": "python",
   "pygments_lexer": "ipython3",
   "version": "3.9.19"
  }
 },
 "nbformat": 4,
 "nbformat_minor": 5
}
